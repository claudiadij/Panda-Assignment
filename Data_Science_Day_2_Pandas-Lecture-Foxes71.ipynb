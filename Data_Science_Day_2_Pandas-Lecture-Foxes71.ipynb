{
 "cells": [
  {
   "cell_type": "markdown",
   "source": [
    "##### keys()"
   ],
   "metadata": {}
  },
  {
   "cell_type": "markdown",
   "source": [
    "### Homework Excersise #1 - Find the Total Number of Runs and RBIs for the Red Sox <br>\n",
    "<p>Get total number of home runs and rbi's</p>"
   ],
   "metadata": {}
  },
  {
   "cell_type": "code",
   "execution_count": 1,
   "source": [
    "import pandas as pd\n",
    "import numpy as np"
   ],
   "outputs": [],
   "metadata": {}
  },
  {
   "cell_type": "code",
   "execution_count": 7,
   "source": [
    "redsox2017 = pd.read_csv('./files/redsox_2017_hitting.txt', sep=',')\n",
    "redsox2018 = pd.read_csv('./files/redsox_2018_hitting.txt', sep=',')\n",
    "\n",
    "# step 1: Add a new column with the key 'Team' and all column values should be 'BOS'\n",
    "redsox2017['Team'] = 'BOS'\n",
    "redsox2018['Team'] = 'BOS'\n",
    "\n",
    "# step 2: Group by the 'Team' column and get total home runs and rbi's\n",
    "print(redsox2017.groupby('Team').count()[['HR', 'RBI']])\n",
    "print('\\n')\n",
    "print(redsox2018.groupby('Team').count()[['HR', 'RBI']])\n",
    "\n",
    "# Produce data for both 2017 and 2018 (ie print both seperated by a newline character \\n)\n",
    "\n",
    "'''\n",
    "TEAM    HR   RBI\n",
    "----------------\n",
    "BOS     144  538\n",
    "'''"
   ],
   "outputs": [
    {
     "output_type": "stream",
     "name": "stdout",
     "text": [
      "      HR  RBI\n",
      "Team         \n",
      "BOS   23   23\n",
      "\n",
      "\n",
      "      HR  RBI\n",
      "Team         \n",
      "BOS   20   20\n"
     ]
    }
   ],
   "metadata": {
    "scrolled": true
   }
  },
  {
   "cell_type": "markdown",
   "source": [
    "## Find the average age of runners in the 2017 Boston Marathon"
   ],
   "metadata": {}
  },
  {
   "cell_type": "code",
   "execution_count": 9,
   "source": [
    "boston2017 = pd.read_csv('./files/boston_marathon2017_edited.csv', sep=',')\n",
    "print(\"Average Age: \", boston2017.mean()[['Age']])"
   ],
   "outputs": [
    {
     "output_type": "stream",
     "name": "stdout",
     "text": [
      "                          10K                     15K                    20K  \\\n",
      "0      12/30/1899 12:30:28 AM  12/30/1899 12:45:44 AM  12/30/1899 1:01:15 AM   \n",
      "1      12/30/1899 12:30:27 AM  12/30/1899 12:45:44 AM  12/30/1899 1:01:15 AM   \n",
      "2      12/30/1899 12:30:29 AM  12/30/1899 12:45:44 AM  12/30/1899 1:01:16 AM   \n",
      "3      12/30/1899 12:30:29 AM  12/30/1899 12:45:44 AM  12/30/1899 1:01:19 AM   \n",
      "4      12/30/1899 12:30:28 AM  12/30/1899 12:45:44 AM  12/30/1899 1:01:15 AM   \n",
      "...                       ...                     ...                    ...   \n",
      "26405   12/30/1899 1:35:41 AM   12/30/1899 2:23:35 AM  12/30/1899 3:12:44 AM   \n",
      "26406   12/30/1899 1:05:33 AM   12/30/1899 1:52:17 AM  12/30/1899 2:49:41 AM   \n",
      "26407   12/30/1899 1:43:36 AM   12/30/1899 2:32:36 AM                    NaN   \n",
      "26408   12/30/1899 1:27:19 AM   12/30/1899 2:17:17 AM  12/30/1899 3:11:40 AM   \n",
      "26409   12/30/1899 1:17:12 AM   12/30/1899 2:00:10 AM  12/30/1899 2:58:55 AM   \n",
      "\n",
      "                         25K                    30K                    35K  \\\n",
      "0      12/30/1899 1:16:59 AM  12/30/1899 1:33:01 AM  12/30/1899 1:48:19 AM   \n",
      "1      12/30/1899 1:16:59 AM  12/30/1899 1:33:01 AM  12/30/1899 1:48:19 AM   \n",
      "2      12/30/1899 1:17:00 AM  12/30/1899 1:33:01 AM  12/30/1899 1:48:31 AM   \n",
      "3      12/30/1899 1:17:00 AM  12/30/1899 1:33:01 AM  12/30/1899 1:48:58 AM   \n",
      "4      12/30/1899 1:16:59 AM  12/30/1899 1:33:01 AM  12/30/1899 1:48:41 AM   \n",
      "...                      ...                    ...                    ...   \n",
      "26405  12/30/1899 4:12:06 AM  12/30/1899 5:03:08 AM  12/30/1899 5:55:18 AM   \n",
      "26406  12/30/1899 3:50:19 AM  12/30/1899 4:50:01 AM  12/30/1899 5:53:48 AM   \n",
      "26407  12/30/1899 4:15:21 AM  12/30/1899 5:06:37 AM  12/30/1899 6:00:33 AM   \n",
      "26408  12/30/1899 4:06:10 AM  12/30/1899 5:07:09 AM  12/30/1899 6:06:07 AM   \n",
      "26409  12/30/1899 4:27:14 AM  12/30/1899 5:37:13 AM  12/30/1899 6:39:07 AM   \n",
      "\n",
      "                         40K                      5K  Age      Bib  ...  \\\n",
      "0      12/30/1899 2:02:53 AM  12/30/1899 12:15:25 AM   24     11.0  ...   \n",
      "1      12/30/1899 2:03:14 AM  12/30/1899 12:15:24 AM   30     17.0  ...   \n",
      "2      12/30/1899 2:03:38 AM  12/30/1899 12:15:25 AM   25     23.0  ...   \n",
      "3      12/30/1899 2:04:35 AM  12/30/1899 12:15:25 AM   32     21.0  ...   \n",
      "4      12/30/1899 2:05:00 AM  12/30/1899 12:15:25 AM   31      9.0  ...   \n",
      "...                      ...                     ...  ...      ...  ...   \n",
      "26405  12/30/1899 6:46:57 AM  12/30/1899 12:46:44 AM   61  25166.0  ...   \n",
      "26406  12/30/1899 6:54:21 AM  12/30/1899 12:32:03 AM   25  25178.0  ...   \n",
      "26407  12/30/1899 6:54:38 AM  12/30/1899 12:53:11 AM   57  27086.0  ...   \n",
      "26408  12/30/1899 6:56:08 AM  12/30/1899 12:40:34 AM   64  25268.0  ...   \n",
      "26409  12/30/1899 7:41:23 AM  12/30/1899 12:39:36 AM   48  25266.0  ...   \n",
      "\n",
      "       Division Gender                   Half  M/F                      Name  \\\n",
      "0             1      1  12/30/1899 1:04:35 AM    M           Kirui, Geoffrey   \n",
      "1             2      2  12/30/1899 1:04:35 AM    M               Rupp, Galen   \n",
      "2             3      3  12/30/1899 1:04:36 AM    M             Osako, Suguru   \n",
      "3             4      4  12/30/1899 1:04:45 AM    M          Biwott, Shadrack   \n",
      "4             5      5  12/30/1899 1:04:35 AM    M            Chebet, Wilson   \n",
      "...         ...    ...                    ...  ...                       ...   \n",
      "26405       344  11972  12/30/1899 3:23:31 AM    F  Steinbach, Paula Eyvonne   \n",
      "26406      4774  14436  12/30/1899 3:00:26 AM    M        Avelino, Andrew R.   \n",
      "26407       698  11973  12/30/1899 3:36:24 AM    F           Hantel, Johanna   \n",
      "26408      1043  14437  12/30/1899 3:22:30 AM    M              Reilly, Bill   \n",
      "26409      2553  14438  12/30/1899 3:08:16 AM    M             Rigsby, Scott   \n",
      "\n",
      "      Number of Records          Official Time  Overall  \\\n",
      "0                     1  12/30/1899 2:09:37 AM        1   \n",
      "1                     1  12/30/1899 2:09:58 AM        2   \n",
      "2                     1  12/30/1899 2:10:28 AM        3   \n",
      "3                     1  12/30/1899 2:12:08 AM        4   \n",
      "4                     1  12/30/1899 2:12:35 AM        5   \n",
      "...                 ...                    ...      ...   \n",
      "26405                 1  12/30/1899 7:09:39 AM    26407   \n",
      "26406                 1  12/30/1899 7:16:59 AM    26408   \n",
      "26407                 1  12/30/1899 7:19:37 AM    26409   \n",
      "26408                 1  12/30/1899 7:20:44 AM    26410   \n",
      "26409                 1  12/30/1899 7:58:14 AM    26411   \n",
      "\n",
      "                         Pace State  \n",
      "0      12/30/1899 12:04:57 AM   NaN  \n",
      "1      12/30/1899 12:04:58 AM    OR  \n",
      "2      12/30/1899 12:04:59 AM   NaN  \n",
      "3      12/30/1899 12:05:03 AM    CA  \n",
      "4      12/30/1899 12:05:04 AM   NaN  \n",
      "...                       ...   ...  \n",
      "26405  12/30/1899 12:16:24 AM    CA  \n",
      "26406  12/30/1899 12:16:40 AM    NC  \n",
      "26407  12/30/1899 12:16:47 AM    PA  \n",
      "26408  12/30/1899 12:16:49 AM    NY  \n",
      "26409  12/30/1899 12:18:15 AM    GA  \n",
      "\n",
      "[26410 rows x 26 columns]\n",
      "Average Age:  Age    42.587732\n",
      "dtype: float64\n"
     ]
    }
   ],
   "metadata": {}
  }
 ],
 "metadata": {
  "kernelspec": {
   "name": "python3",
   "display_name": "Python 3.8.8 64-bit ('base': conda)"
  },
  "language_info": {
   "codemirror_mode": {
    "name": "ipython",
    "version": 3
   },
   "file_extension": ".py",
   "mimetype": "text/x-python",
   "name": "python",
   "nbconvert_exporter": "python",
   "pygments_lexer": "ipython3",
   "version": "3.8.8"
  },
  "interpreter": {
   "hash": "344443636c3027c5042750c9c609acdda283a9c43681b128a8c1053e7ad2aa7d"
  }
 },
 "nbformat": 4,
 "nbformat_minor": 2
}